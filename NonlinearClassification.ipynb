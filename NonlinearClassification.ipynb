{
 "cells": [
  {
   "cell_type": "markdown",
   "metadata": {},
   "source": [
    "# 任务说明\n",
    "\n",
    "## 2.  非线性多分类器\n",
    "\n",
    "鸢尾花数据集`iris.csv`含有150条记录，每条记录包含萼片长度`sepal length`、萼片宽度`sepal width`、\n",
    "花瓣长度`petal length`和花瓣宽度`petal width`四个数值型特征，以及它的所属类别`class`（可能为`Iris-setosa`,`Iris-versicolor`,`Iris-virginica`三者之一）。\n",
    "\n",
    "**任务：请利用该数据集训练出一个良好的非线性分类器。**"
   ]
  },
  {
   "cell_type": "code",
   "execution_count": 1,
   "metadata": {},
   "outputs": [],
   "source": [
    "import numpy as np\n",
    "import pandas as pd"
   ]
  },
  {
   "cell_type": "code",
   "execution_count": 2,
   "metadata": {},
   "outputs": [
    {
     "data": {
      "text/html": [
       "<div>\n",
       "<style scoped>\n",
       "    .dataframe tbody tr th:only-of-type {\n",
       "        vertical-align: middle;\n",
       "    }\n",
       "\n",
       "    .dataframe tbody tr th {\n",
       "        vertical-align: top;\n",
       "    }\n",
       "\n",
       "    .dataframe thead th {\n",
       "        text-align: right;\n",
       "    }\n",
       "</style>\n",
       "<table border=\"1\" class=\"dataframe\">\n",
       "  <thead>\n",
       "    <tr style=\"text-align: right;\">\n",
       "      <th></th>\n",
       "      <th>sepal length</th>\n",
       "      <th>sepal width</th>\n",
       "      <th>petal length</th>\n",
       "      <th>petal width</th>\n",
       "      <th>class</th>\n",
       "    </tr>\n",
       "  </thead>\n",
       "  <tbody>\n",
       "    <tr>\n",
       "      <th>0</th>\n",
       "      <td>5.1</td>\n",
       "      <td>3.5</td>\n",
       "      <td>1.4</td>\n",
       "      <td>0.2</td>\n",
       "      <td>Iris-setosa</td>\n",
       "    </tr>\n",
       "    <tr>\n",
       "      <th>1</th>\n",
       "      <td>4.9</td>\n",
       "      <td>3.0</td>\n",
       "      <td>1.4</td>\n",
       "      <td>0.2</td>\n",
       "      <td>Iris-setosa</td>\n",
       "    </tr>\n",
       "    <tr>\n",
       "      <th>2</th>\n",
       "      <td>4.7</td>\n",
       "      <td>3.2</td>\n",
       "      <td>1.3</td>\n",
       "      <td>0.2</td>\n",
       "      <td>Iris-setosa</td>\n",
       "    </tr>\n",
       "    <tr>\n",
       "      <th>3</th>\n",
       "      <td>4.6</td>\n",
       "      <td>3.1</td>\n",
       "      <td>1.5</td>\n",
       "      <td>0.2</td>\n",
       "      <td>Iris-setosa</td>\n",
       "    </tr>\n",
       "    <tr>\n",
       "      <th>4</th>\n",
       "      <td>5.0</td>\n",
       "      <td>3.6</td>\n",
       "      <td>1.4</td>\n",
       "      <td>0.2</td>\n",
       "      <td>Iris-setosa</td>\n",
       "    </tr>\n",
       "  </tbody>\n",
       "</table>\n",
       "</div>"
      ],
      "text/plain": [
       "   sepal length  sepal width  petal length  petal width        class\n",
       "0           5.1          3.5           1.4          0.2  Iris-setosa\n",
       "1           4.9          3.0           1.4          0.2  Iris-setosa\n",
       "2           4.7          3.2           1.3          0.2  Iris-setosa\n",
       "3           4.6          3.1           1.5          0.2  Iris-setosa\n",
       "4           5.0          3.6           1.4          0.2  Iris-setosa"
      ]
     },
     "execution_count": 2,
     "metadata": {},
     "output_type": "execute_result"
    }
   ],
   "source": [
    "# Read data from local path\n",
    "path = 'Dataset/iris.csv'\n",
    "data = pd.read_csv(path)\n",
    "data.head()"
   ]
  },
  {
   "cell_type": "code",
   "execution_count": 3,
   "metadata": {},
   "outputs": [],
   "source": [
    "# data preprocess\n",
    "X = data.drop(['class'],axis=1)\n",
    "X = np.array(X)\n",
    "labels = data['class']\n",
    "y = []\n",
    "for label in labels.unique():\n",
    "    y.append([int(each==label) for each in labels])\n",
    "y = np.array(y).transpose()"
   ]
  },
  {
   "cell_type": "code",
   "execution_count": 4,
   "metadata": {},
   "outputs": [],
   "source": [
    "# define 2 activation function\n",
    "class Sigmoid(object):\n",
    "    @classmethod\n",
    "    def forward(self,x):\n",
    "        return 1/(1+np.exp(-x))\n",
    "    @classmethod\n",
    "    def backward(self,y):\n",
    "        return (1-y)*y\n",
    "\n",
    "class Softmax(object):\n",
    "    @classmethod\n",
    "    def forward(self,x):\n",
    "        return np.exp(x)/np.sum(np.exp(x))\n",
    "    @classmethod\n",
    "    def backward(self,y):\n",
    "        return np.diag(y) - np.outer(y,y)"
   ]
  },
  {
   "cell_type": "code",
   "execution_count": 5,
   "metadata": {},
   "outputs": [],
   "source": [
    "# define the model\n",
    "class NonlinearClassifier(object):\n",
    "    '''\n",
    "    2-layer neural network multiclass-classifier. \n",
    "    \n",
    "    input -> FC -> hidden layer -> FC -> class score -> softmax -> probability\n",
    "    \n",
    "    m: the number of input features.\n",
    "    n: the number of class.\n",
    "    hidden: the number of hidden layer.\n",
    "    \n",
    "    w1,b1: weight and bias between input and hidden layer\n",
    "    w2,b2: weight and bias between hidden layer and class score\n",
    "    '''\n",
    "    def __init__(self, m, hidden, n):\n",
    "        '''\n",
    "        Randomly initialize the parameters\n",
    "        '''\n",
    "        self.w1 = np.random.random([m,hidden])\n",
    "        self.b1 = np.random.random(hidden)\n",
    "        self.w2 = np.random.random([hidden,n])\n",
    "        self.b2 = np.random.random(n)\n",
    "        \n",
    "    def forward(self,x):\n",
    "        '''\n",
    "        Forward propagation through all the layers to get the prediction of probability\n",
    "        '''\n",
    "        z1 = x.dot(self.w1) + self.b1\n",
    "        a1 = Sigmoid.forward(z1)\n",
    "        z2 = a1.dot(self.w2) + self.b2\n",
    "        output = Softmax.forward(z2)\n",
    "        return z1,a1,z2,output\n",
    "    \n",
    "    def loss(self,output,y):\n",
    "        '''\n",
    "        Cross entropy loss for each sample\n",
    "        '''\n",
    "        loss = 0\n",
    "        for i in range(output.shape[0]):\n",
    "            loss += -y[i]*np.log(output[i])\n",
    "        return loss\n",
    "    \n",
    "    def train(self, X, y, lr = 0.003,iteration = 1000, print_every = None):\n",
    "        '''\n",
    "        Use batch gradient decent for optimizer.\n",
    "        dx means dloss/dx\n",
    "        '''\n",
    "    \n",
    "        for ii in range(iteration):\n",
    "            delta_w1 = 0\n",
    "            delta_b1 = 0\n",
    "            delta_w2 = 0\n",
    "            delta_b2 = 0\n",
    "            loss = 0\n",
    "            \n",
    "            for i in range(X.shape[0]):\n",
    "                x = X[i]\n",
    "                z1, a1, z2, output = self.forward(x)\n",
    "                \n",
    "                loss += self.loss(output,y[i])\n",
    "                dz2 = output - y[i]\n",
    "                dw2 = np.outer(a1, dz2)\n",
    "                db2 = dz2\n",
    "                da1 = self.w2.dot(dz2)\n",
    "                dz1 = Sigmoid.backward(a1)*da1\n",
    "                dw1 = np.outer(x,dz1)\n",
    "                db1 = dz1\n",
    "                \n",
    "                delta_w1 += dw1\n",
    "                delta_b1 += db1\n",
    "                delta_w2 += dw2\n",
    "                delta_b2 += db2\n",
    "              \n",
    "            if(print_every != None and ii%print_every == 0):\n",
    "                print('loss:',loss)\n",
    "                \n",
    "            self.w1 -= lr*delta_w1\n",
    "            self.b1 -= lr*delta_b1\n",
    "            self.w2 -= lr*delta_w2\n",
    "            self.b2 -= lr*delta_b2\n",
    "                \n",
    "    def predict(self,X):\n",
    "        '''\n",
    "        transform probability to the label vector\n",
    "        '''\n",
    "        prediction = []\n",
    "        for i in range(X.shape[0]):\n",
    "            x = X[i]\n",
    "            _, _, _, output = self.forward(x)\n",
    "            maxn = np.argmax(output)\n",
    "            prediction.append([int(j==maxn) for j in range(output.shape[0])])\n",
    "        return np.array(prediction)"
   ]
  },
  {
   "cell_type": "code",
   "execution_count": 6,
   "metadata": {},
   "outputs": [],
   "source": [
    "def score(prediction,y):\n",
    "    '''\n",
    "    Use precision for score\n",
    "    '''\n",
    "    total = y.shape[0]\n",
    "    correct = 0\n",
    "    for i in range(total):\n",
    "        if (y[i] == prediction[i]).all():\n",
    "            correct += 1\n",
    "    return correct/total"
   ]
  },
  {
   "cell_type": "code",
   "execution_count": 7,
   "metadata": {},
   "outputs": [
    {
     "name": "stdout",
     "output_type": "stream",
     "text": [
      "loss: 167.0489792333817\n",
      "loss: 68.43315497830923\n",
      "loss: 50.834311845734575\n",
      "loss: 45.65566343282708\n",
      "loss: 41.772677788353135\n",
      "loss: 39.06841936661903\n"
     ]
    }
   ],
   "source": [
    "hidden_dim = 5\n",
    "model = NonlinearClassifier(X.shape[1],hidden_dim,y.shape[1])\n",
    "model.train(X,y,lr=0.001,iteration = 3000,print_every=500)"
   ]
  },
  {
   "cell_type": "code",
   "execution_count": 8,
   "metadata": {},
   "outputs": [
    {
     "name": "stdout",
     "output_type": "stream",
     "text": [
      "0.96\n"
     ]
    }
   ],
   "source": [
    "prediction = model.predict(X)\n",
    "precision = score(prediction,y)\n",
    "print(precision)"
   ]
  },
  {
   "cell_type": "code",
   "execution_count": null,
   "metadata": {},
   "outputs": [],
   "source": []
  }
 ],
 "metadata": {
  "kernelspec": {
   "display_name": "Python 3",
   "language": "python",
   "name": "python3"
  },
  "language_info": {
   "codemirror_mode": {
    "name": "ipython",
    "version": 3
   },
   "file_extension": ".py",
   "mimetype": "text/x-python",
   "name": "python",
   "nbconvert_exporter": "python",
   "pygments_lexer": "ipython3",
   "version": "3.8.6"
  }
 },
 "nbformat": 4,
 "nbformat_minor": 2
}
